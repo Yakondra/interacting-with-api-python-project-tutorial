{
    "cells": [
        {
            "cell_type": "markdown",
            "metadata": {},
            "source": [
                "# Explore here"
            ]
        },
        {
            "cell_type": "code",
            "execution_count": 45,
            "metadata": {},
            "outputs": [
                {
                    "name": "stdout",
                    "output_type": "stream",
                    "text": [
                        "Canciones populares de The Weeknd:\n",
                        "track     : Starboy\n",
                        "duration  : 3.84\n",
                        "popularity: 94\n",
                        "----------------------------------\n",
                        "track     : Die For You\n",
                        "duration  : 4.34\n",
                        "popularity: 91\n",
                        "----------------------------------\n",
                        "track     : Popular (with Playboi Carti & Madonna) - Music from the HBO Original Series\n",
                        "duration  : 3.59\n",
                        "popularity: 93\n",
                        "----------------------------------\n",
                        "track     : Creepin' (with The Weeknd & 21 Savage)\n",
                        "duration  : 3.69\n",
                        "popularity: 92\n",
                        "----------------------------------\n",
                        "track     : Blinding Lights\n",
                        "duration  : 3.33\n",
                        "popularity: 92\n",
                        "----------------------------------\n",
                        "track     : Stargirl Interlude\n",
                        "duration  : 1.86\n",
                        "popularity: 88\n",
                        "----------------------------------\n",
                        "track     : Die For You (with Ariana Grande) - Remix\n",
                        "duration  : 3.88\n",
                        "popularity: 84\n",
                        "----------------------------------\n",
                        "track     : One Of The Girls (with JENNIE, Lily Rose Depp)\n",
                        "duration  : 4.08\n",
                        "popularity: 90\n",
                        "----------------------------------\n",
                        "track     : Save Your Tears\n",
                        "duration  : 3.59\n",
                        "popularity: 89\n",
                        "----------------------------------\n",
                        "track     : Reminder\n",
                        "duration  : 3.65\n",
                        "popularity: 89\n",
                        "----------------------------------\n"
                    ]
                }
            ],
            "source": [
                "import spotipy\n",
                "from spotipy.oauth2 import SpotifyClientCredentials\n",
                "\n",
                "from dotenv import load_dotenv\n",
                "load_dotenv()\n",
                "import os\n",
                "\n",
                "client_id = os.environ.get(\"CLIENT_ID\")\n",
                "client_secret = os.environ.get(\"CLIENT_SECRET\")\n",
                "\n",
                "wknd_uri = \"spotify:artist:1Xyo4u8uXC1ZmMpatF05PJ\"\n",
                "\n",
                "client_credentials_manager = SpotifyClientCredentials(client_id=client_id, client_secret=client_secret)\n",
                "spoti = spotipy.Spotify(client_credentials_manager=client_credentials_manager)\n",
                "\n",
                "# Obtiene la información del artista\n",
                "wknd_info = spoti.artist(wknd_uri)\n",
                "\n",
                "top_tracks = spoti.artist_top_tracks(wknd_uri)\n",
                "\n",
                "print(f'Canciones populares de {wknd_info[\"name\"]}:')\n",
                "\n",
                "name = []\n",
                "minutes = []\n",
                "popularity = []\n",
                "\n",
                "# for track in top_tracks['tracks']:\n",
                "#     print('track     : ' + track['name'])\n",
                "#     print('duration  : ' + str(track['duration_ms']))\n",
                "#     print('popularity: ' + str(track['popularity']))\n",
                "#     print('-------------------------')\n",
                "\n",
                "for track in top_tracks['tracks']:\n",
                "    name.append(track['name'])\n",
                "    duracion_en_minutos = round(track['duration_ms']/ 60000, 2)\n",
                "    minutes.append(duracion_en_minutos)\n",
                "    popularity.append(track['popularity'])\n",
                "    print('track     : ' + track['name'])\n",
                "    print('duration  : ' + str(duracion_en_minutos))\n",
                "    print('popularity: ' + str(track['popularity']))\n",
                "    print('----------------------------------')\n"
            ]
        },
        {
            "cell_type": "code",
            "execution_count": 46,
            "metadata": {},
            "outputs": [
                {
                    "data": {
                        "text/html": [
                            "<div>\n",
                            "<style scoped>\n",
                            "    .dataframe tbody tr th:only-of-type {\n",
                            "        vertical-align: middle;\n",
                            "    }\n",
                            "\n",
                            "    .dataframe tbody tr th {\n",
                            "        vertical-align: top;\n",
                            "    }\n",
                            "\n",
                            "    .dataframe thead th {\n",
                            "        text-align: right;\n",
                            "    }\n",
                            "</style>\n",
                            "<table border=\"1\" class=\"dataframe\">\n",
                            "  <thead>\n",
                            "    <tr style=\"text-align: right;\">\n",
                            "      <th></th>\n",
                            "      <th>Track</th>\n",
                            "      <th>Minutes</th>\n",
                            "      <th>popularity</th>\n",
                            "    </tr>\n",
                            "  </thead>\n",
                            "  <tbody>\n",
                            "    <tr>\n",
                            "      <th>0</th>\n",
                            "      <td>Starboy</td>\n",
                            "      <td>3.84</td>\n",
                            "      <td>94</td>\n",
                            "    </tr>\n",
                            "    <tr>\n",
                            "      <th>2</th>\n",
                            "      <td>Popular (with Playboi Carti &amp; Madonna) - Music...</td>\n",
                            "      <td>3.59</td>\n",
                            "      <td>93</td>\n",
                            "    </tr>\n",
                            "    <tr>\n",
                            "      <th>3</th>\n",
                            "      <td>Creepin' (with The Weeknd &amp; 21 Savage)</td>\n",
                            "      <td>3.69</td>\n",
                            "      <td>92</td>\n",
                            "    </tr>\n",
                            "  </tbody>\n",
                            "</table>\n",
                            "</div>"
                        ],
                        "text/plain": [
                            "                                               Track  Minutes  popularity\n",
                            "0                                            Starboy     3.84          94\n",
                            "2  Popular (with Playboi Carti & Madonna) - Music...     3.59          93\n",
                            "3             Creepin' (with The Weeknd & 21 Savage)     3.69          92"
                        ]
                    },
                    "execution_count": 46,
                    "metadata": {},
                    "output_type": "execute_result"
                }
            ],
            "source": [
                "import pandas as pd\n",
                "\n",
                "wknd_ = pd.DataFrame({'Track': name, 'Minutes': minutes, 'popularity': popularity})\n",
                "wknd_.sort_values(by='popularity',  inplace = True,  ascending=False)\n",
                "wknd_.head(3)"
            ]
        },
        {
            "cell_type": "code",
            "execution_count": 55,
            "metadata": {},
            "outputs": [
                {
                    "data": {
                        "image/png": "[encoded data removed]",
                        "text/plain": [
                            "<Figure size 800x500 with 1 Axes>"
                        ]
                    },
                    "metadata": {},
                    "output_type": "display_data"
                }
            ],
            "source": [
                "import matplotlib.pyplot as plt\n",
                "\n",
                "plt.figure(figsize=(8, 5))\n",
                "plt.scatter(wknd_['Minutes'], wknd_['popularity'], alpha=0.6)\n",
                "plt.title('Relationship between Duration and Popularity of Songs')\n",
                "plt.xlabel('Minutes')\n",
                "plt.ylabel('Popularity')\n",
                "plt.grid(True, color = 'gray', linewidth=0.8)\n",
                "plt.show()"
            ]
        }
    ],
    "metadata": {
        "kernelspec": {
            "display_name": "Python 3.8.13 64-bit ('3.8.13')",
            "language": "python",
            "name": "python3"
        },
        "language_info": {
            "codemirror_mode": {
                "name": "ipython",
                "version": 3
            },
            "file_extension": ".py",
            "mimetype": "text/x-python",
            "name": "python",
            "nbconvert_exporter": "python",
            "pygments_lexer": "ipython3",
            "version": "3.11.4"
        },
        "orig_nbformat": 4,
        "vscode": {
            "interpreter": {
                "hash": "110cc1dee26208153f2972f08a2ad52b6a56238dc66d48e87fb757ef2996db56"
            }
        }
    },
    "nbformat": 4,
    "nbformat_minor": 2
}
